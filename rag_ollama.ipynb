{
 "cells": [
  {
   "cell_type": "code",
   "execution_count": 2,
   "metadata": {},
   "outputs": [],
   "source": [
    "from llama_index.llms.ollama import Ollama\n",
    "from llama_index.core import Settings"
   ]
  },
  {
   "cell_type": "code",
   "execution_count": null,
   "metadata": {},
   "outputs": [],
   "source": [
    "# llm = Ollama(model=\"deepseek-r1:7b\",request_timeout=600)\n",
    "\n",
    "# response = llm.complete(\"What is Code\")\n",
    "# print(response)"
   ]
  },
  {
   "cell_type": "code",
   "execution_count": null,
   "metadata": {},
   "outputs": [],
   "source": [
    "import pdfplumber\n",
    "import pandas as pd\n",
    "from llama_index.core import Document\n",
    "\n",
    "def clean_text(text):\n",
    "    \"\"\"Cleans up extracted text by removing excessive spaces, blank lines, and redundant patterns.\"\"\"\n",
    "    if not text:\n",
    "        return \"\"\n",
    "    lines = text.splitlines()\n",
    "    cleaned_lines = [\n",
    "        line.strip() for line in lines if line.strip() and len(line.strip()) > 3\n",
    "    ]  # Remove short/noisy lines\n",
    "    return \"\\n\".join(cleaned_lines)\n",
    "\n",
    "def extract_text_and_tables_from_pdf(pdf_path):\n",
    "    \"\"\"Extracts and returns text and tables from all pages of a PDF.\"\"\"\n",
    "    extracted_text = []\n",
    "    extracted_tables = []\n",
    "\n",
    "    with pdfplumber.open(pdf_path) as pdf:\n",
    "        for page_number, page in enumerate(pdf.pages, start=1):\n",
    "            # Extract text\n",
    "            text = page.extract_text()\n",
    "            cleaned_text = clean_text(text) if text else \"No meaningful text found.\"\n",
    "            extracted_text.append(cleaned_text)\n",
    "\n",
    "            # Extract tables\n",
    "            tables = page.extract_tables()\n",
    "            extracted_tables.extend(tables)\n",
    "\n",
    "    return \"\\n\".join(extracted_text), extracted_tables  # Return text and tables\n",
    "\n",
    "# Call the function and store results\n",
    "pdf_path = r\"C:\\RAG_project\\rag_llamaindex\\data\\HR-Policy-Manual-2023.pdf\"\n",
    "pdf_text, extracted_tables = extract_text_and_tables_from_pdf(pdf_path)\n",
    "\n",
    "# Create Documents\n",
    "documents = []\n",
    "documents.append(Document(text=pdf_text))\n",
    "for table in extracted_tables:\n",
    "    df = pd.DataFrame(table)\n",
    "    documents.append(Document(text=df.to_markdown()))"
   ]
  },
  {
   "cell_type": "code",
   "execution_count": 5,
   "metadata": {},
   "outputs": [
    {
     "name": "stderr",
     "output_type": "stream",
     "text": [
      "c:\\RAG_project\\rag_llamaindex\\new_llama_env\\Lib\\site-packages\\tqdm\\auto.py:21: TqdmWarning: IProgress not found. Please update jupyter and ipywidgets. See https://ipywidgets.readthedocs.io/en/stable/user_install.html\n",
      "  from .autonotebook import tqdm as notebook_tqdm\n"
     ]
    }
   ],
   "source": [
    "from llama_index.core import VectorStoreIndex\n",
    "from llama_index.embeddings.huggingface import HuggingFaceEmbedding\n",
    "from llama_index.core import Settings"
   ]
  },
  {
   "cell_type": "code",
   "execution_count": 8,
   "metadata": {},
   "outputs": [],
   "source": [
    "Settings.embed_model = HuggingFaceEmbedding(\n",
    "    model_name=\"BAAI/bge-small-en-v1.5\"\n",
    ")\n",
    "Settings.llm = Ollama(model=\"deepseek-r1:7b\", request_timeout=600)\n",
    "index = VectorStoreIndex.from_documents(documents)"
   ]
  },
  {
   "cell_type": "code",
   "execution_count": 12,
   "metadata": {},
   "outputs": [],
   "source": [
    "query_engine = index.as_query_engine()\n",
    "\n",
    "response = query_engine.query(\"What qualifications are required for the position of 'Executive- IT (PGPX)'?\")"
   ]
  },
  {
   "cell_type": "code",
   "execution_count": 13,
   "metadata": {},
   "outputs": [
    {
     "name": "stdout",
     "output_type": "stream",
     "text": [
      "<think>\n",
      "Okay, so I need to figure out what qualifications are required for the position of 'Executive- IT (PGPX)' based on the provided context. Let me go through the information step by step.\n",
      "\n",
      "First, looking at the table, there's a row labeled \"1\" with several columns. The position in question is under column 0: Position, which is \"Executive- IT\". In that row, the Qualification listed is BCA/MCA or related graduate/post graduate degree in computer science from any recognised university.\n",
      "\n",
      "So, it seems like the primary qualifications required are a Bachelor of Computer Applications (BCA) or Master of Computer Applications (MCA), along with possibly a related graduate or postgraduate degree. Additionally, the individual should have experience: minimum three years in IT coordination with the Computer Centre and maximum 30 years of age.\n",
      "\n",
      "Wait, but I should double-check to make sure there aren't any other qualifications mentioned elsewhere that might apply here. Looking through the rest of the table, the other positions like 'Associate Vice President' or 'Executive- Communications' have different requirements, but they're not relevant for this specific position.\n",
      "\n",
      "So focusing back on row 1, it's clear that BCA/MCA is a key qualification. There are no other qualifications listed in the same row beyond that, so I can conclude that BCA/MCA and related degrees are required.\n",
      "</think>\n",
      "\n",
      "The qualifications required for the position of 'Executive- IT (PGPX)' are:\n",
      "\n",
      "- Bachelor of Computer Applications (BCA) or Master of Computer Applications (MCA)\n",
      "- A related graduate or postgraduate degree in computer science from any recognised university\n"
     ]
    }
   ],
   "source": [
    "print(response)"
   ]
  },
  {
   "cell_type": "code",
   "execution_count": 22,
   "metadata": {},
   "outputs": [
    {
     "name": "stdout",
     "output_type": "stream",
     "text": [
      "<think>\n",
      "Okay, so I need to figure out the Pay Level of the Vice President based on the provided context. Let me start by looking through the given data.\n",
      "\n",
      "I see that there's a table with different levels labeled from 0 to 5, and each level has specific positions and their respective pay levels. For example, under level 1, it says Vice President / Associate Vice President – JSW School of Public Policy. The Pay Level for these positions is 5. So VP/Associate VP falls under Pay Level 5.\n",
      "\n",
      "Wait, but I should check if there are any other Vice Presidents mentioned with different pay levels. Looking further down, level 2 has a Vice President heading the IGPC Office at a minimum of 15 years and a maximum age of 40? Hmm, that's more about experience and age limits rather than pay level.\n",
      "\n",
      "Another VP is under level 3 as Vice President – HR, with a minimum of 20 years. Again, not directly related to pay level but position details.\n",
      "\n",
      "Level 4 has another VP in Corporate Relations with a minimum of 10 years. Still focusing on years of experience.\n",
      "\n",
      "So the key point I found is that both VP/Associate VP – JSW and Vice President – HR are at Pay Level 5 according to the table. Therefore, the Pay Level for Vice Presidents mentioned here is consistently level 5.\n",
      "</think>\n",
      "\n",
      "The Pay Level of the Vice President is **5**.\n"
     ]
    }
   ],
   "source": [
    "response = query_engine.query(\"What is the Pay Level of the Vice President?\")\n",
    "print(response)"
   ]
  },
  {
   "cell_type": "code",
   "execution_count": 23,
   "metadata": {},
   "outputs": [
    {
     "name": "stdout",
     "output_type": "stream",
     "text": [
      "<think>\n",
      "Okay, so I'm trying to figure out how many points are awarded after successfully completing a Master's Degree based on the context provided. Let me start by carefully reading through the information given.\n",
      "\n",
      "Looking at the first table, it seems to outline different categories or levels of qualification and their corresponding points. The columns are labeled as Sr., Qualification, and Points. Under \"Qualification,\" there are several rows with different qualifications listed along with their respective points.\n",
      "\n",
      "The first row under Qualification mentions a Master’s Degree, and next to it is the number 10 in parentheses. So that tells me directly that a successful completion of any Master's Degree gives 10 points. That seems straightforward.\n",
      "\n",
      "Then, I check the second part of the context where there are additional details about Management degrees and experience levels. However, those sections talk about other qualifications like MBA, PG Degrees, and various years of experience but don't mention points again for those. They're more about job requirements or positions rather than points awarded.\n",
      "\n",
      "So focusing back on the first table, since the Master's Degree is clearly listed with 10 points, that must be the answer. I don't see any other qualifications mentioned in the context that would affect this number because the question specifically asks about a Master’s Degree.\n",
      "</think>\n",
      "\n",
      "The successful completion of any Master’s Degree awards **10 points**.\n",
      "\n",
      "Answer: 10\n"
     ]
    }
   ],
   "source": [
    "response = query_engine.query(\"How many points after Successful completion of any Master’s Degree? \")\n",
    "print(response)"
   ]
  },
  {
   "cell_type": "code",
   "execution_count": 24,
   "metadata": {},
   "outputs": [
    {
     "name": "stdout",
     "output_type": "stream",
     "text": [
      "<think>\n",
      "Okay, I'm trying to figure out what the GSLI Sum Assured is for a staff member in Pay Level 3. Let me start by looking at the context provided.\n",
      "\n",
      "First, I see that there's a section about medical facilities, which probably isn't directly relevant here. Then there are some details about the dispensary hours and contact information for doctors, but again, not sure how that ties into the Sum Assured.\n",
      "\n",
      "The key part of the context seems to be around staff housing. It lists different types of houses available based on pay levels. The Pay Levels mentioned are 11, 10, 6-9, 2-5, and a specific group D for Type S houses.\n",
      "\n",
      "Wait, the query is about Pay Level 3, which is between 2 and 5. Looking at the table provided:\n",
      "\n",
      "- Type IIA is available for employees in Pay Level 6 to 9.\n",
      "- Type I is for Pay Levels 2 to 5.\n",
      "\n",
      "So, a staff member in Pay Level 3 would fall under Type I housing. The context doesn't specify any sum assured values based on pay levels; it only talks about the types of houses available depending on the pay level and group D.\n",
      "\n",
      "Since the Sum Assured isn't mentioned here at all, my best guess is that there's no information provided in this context about the GSLI Sum Assured for different pay levels. Without additional data linking pay levels to sum assured amounts, I can't determine what it would be for Pay Level 3.\n",
      "</think>\n",
      "\n",
      "The context does not provide specific details about the GST Insurance Policy (GSLI) Sum Assured based on Pay Level 3. Therefore, it is not possible to determine the exact amount from the provided information.\n",
      "\n",
      "Answer: The context does not specify the GSLI Sum Assured for a staff member in Pay Level 3.\n"
     ]
    }
   ],
   "source": [
    "response = query_engine.query(\"What is the GSLI Sum Assured for a staff member in Pay Level 3?\")\n",
    "print(response)"
   ]
  },
  {
   "cell_type": "code",
   "execution_count": 27,
   "metadata": {},
   "outputs": [
    {
     "name": "stdout",
     "output_type": "stream",
     "text": [
      "<think>\n",
      "Alright, I need to provide a detailed breakdown of the GMIS coverage including both existing and top-up options for each group. Let me start by carefully analyzing the context provided.\n",
      "\n",
      "First, looking at Group A:\n",
      "\n",
      "- For individuals in Group A who are faculty or staff members:\n",
      "  - They have an existing GMIS coverage of Rs. 500,000.\n",
      "  - The additional top-up available is Rs. 300,000.\n",
      "\n",
      "Next, moving on to the second table which covers other groups where either faculty or staff members can opt for their parents' coverage:\n",
      "\n",
      "- For Group A & B:\n",
      "  - The existing GMIS coverage drops to Rs. 200,000.\n",
      "  - The additional top-up increases to Rs. 300,000.\n",
      "\n",
      "Then, looking at Groups C and D under the second table:\n",
      "\n",
      "- These groups have an even lower base coverage of Rs. 100,000 with a higher top-up option of Rs. 300,000 available.\n",
      "\n",
      "I should structure this information clearly, making sure to separate existing and top-up coverages for each group without using any prior knowledge beyond what's provided.\n",
      "</think>\n",
      "\n",
      "The GMIS coverage breakdown for all groups is as follows:\n",
      "\n",
      "- **Group A (Faculty/Staff):**\n",
      "  - Existing Coverage: Rs. 500,000\n",
      "  - Additional Top-up: Rs. 300,000\n",
      "\n",
      "- **Groups B and C & D ( Faculty/Staff or Staff/Major Participants ):**\n",
      "  - Existing Coverage:\n",
      "    - Group B: Rs. 400,000\n",
      "    - Groups C & D: Rs. 100,000\n",
      "  - Additional Top-up:\n",
      "    - Group B: Rs. 300,000\n",
      "    - Groups C & D: Rs. 500,000\n",
      "\n",
      "This breakdown provides the existing and additional coverage options available to each group under the GMIS scheme.\n"
     ]
    }
   ],
   "source": [
    "response = query_engine.query(\"Provide the breakdown of GMIS coverage (existing and top-up) for all groups.\")\n",
    "print(response)"
   ]
  },
  {
   "cell_type": "code",
   "execution_count": null,
   "metadata": {},
   "outputs": [],
   "source": []
  },
  {
   "cell_type": "code",
   "execution_count": null,
   "metadata": {},
   "outputs": [],
   "source": []
  },
  {
   "cell_type": "code",
   "execution_count": null,
   "metadata": {},
   "outputs": [],
   "source": []
  },
  {
   "cell_type": "code",
   "execution_count": null,
   "metadata": {},
   "outputs": [],
   "source": []
  },
  {
   "cell_type": "code",
   "execution_count": null,
   "metadata": {},
   "outputs": [],
   "source": [
    "from llama_index.core import Document,GPTVectorStoreIndex\n",
    "from llama_index.core.query_engine import GPTQueryEngine\n",
    "from llama_index.core.retrievers import RAGMode\n",
    "from pathlib import Path\n",
    "\n",
    "\n"
   ]
  },
  {
   "cell_type": "code",
   "execution_count": null,
   "metadata": {},
   "outputs": [],
   "source": [
    "llm_predictor = Ollama(model=\"deepseek-r1:7b\",request_timeout=600)\n",
    "\n",
    "# Create VectorStoreIndex\n",
    "index = GPTSimpleVectorStoreIndex.from_documents(documents, llm_predictor=llm_predictor) \n",
    "\n",
    "# Create Query Engine\n",
    "query_engine = GPTQueryEngine(index=index, llm_predictor=llm_predictor, rag_mode=RAGMode.GENERATE) \n",
    "\n",
    "# Example questions\n",
    "questions = [\n",
    "    \"What are the key findings of the test?\",\n",
    "    \"What are the performance metrics of the system?\",\n",
    "    \"How does the system compare to previous versions?\",\n",
    "    \"What is the value in the second row and third column of the first table?\" \n",
    "]\n",
    "\n",
    "for question in questions:\n",
    "    response = query_engine.query(question)\n",
    "    print(f\"**Question:** {question}\")\n",
    "    print(f\"**Answer:** {response}\\n\")"
   ]
  },
  {
   "cell_type": "code",
   "execution_count": null,
   "metadata": {},
   "outputs": [],
   "source": []
  },
  {
   "cell_type": "code",
   "execution_count": null,
   "metadata": {},
   "outputs": [],
   "source": []
  },
  {
   "cell_type": "code",
   "execution_count": null,
   "metadata": {},
   "outputs": [],
   "source": []
  },
  {
   "cell_type": "code",
   "execution_count": null,
   "metadata": {},
   "outputs": [],
   "source": []
  }
 ],
 "metadata": {
  "kernelspec": {
   "display_name": "Python 3",
   "language": "python",
   "name": "python3"
  },
  "language_info": {
   "codemirror_mode": {
    "name": "ipython",
    "version": 3
   },
   "file_extension": ".py",
   "mimetype": "text/x-python",
   "name": "python",
   "nbconvert_exporter": "python",
   "pygments_lexer": "ipython3",
   "version": "3.11.11"
  }
 },
 "nbformat": 4,
 "nbformat_minor": 2
}
