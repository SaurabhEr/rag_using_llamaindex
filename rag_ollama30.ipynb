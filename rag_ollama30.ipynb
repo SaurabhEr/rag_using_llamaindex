{
 "cells": [
  {
   "cell_type": "markdown",
   "metadata": {},
   "source": [
    "### This code uses the BAAI/bge-m3 embedding model for generating embeddings\n",
    "### and the DeepSeek LLM model (deepseek-r1:7b) for generating answers based on queries.\n",
    "### The implementation works well for queries related to levels 2 to 4, providing relevant responses.\n",
    "### However, for level 3-specific queries, it successfully retrieves and generates answers."
   ]
  },
  {
   "cell_type": "code",
   "execution_count": 1,
   "metadata": {},
   "outputs": [],
   "source": [
    "from llama_index.llms.ollama import Ollama"
   ]
  },
  {
   "cell_type": "code",
   "execution_count": null,
   "metadata": {},
   "outputs": [],
   "source": []
  },
  {
   "cell_type": "code",
   "execution_count": 2,
   "metadata": {},
   "outputs": [],
   "source": [
    "import pdfplumber\n",
    "import pandas as pd\n",
    "from llama_index.core import Document\n",
    "\n",
    "def clean_text(text):\n",
    "    \"\"\"Cleans up extracted text by removing excessive spaces, blank lines, and redundant patterns.\"\"\"\n",
    "    if not text:\n",
    "        return \"\"\n",
    "    lines = text.splitlines()\n",
    "    cleaned_lines = [\n",
    "        line.strip() for line in lines if line.strip() and len(line.strip()) > 3\n",
    "    ]  # Remove short/noisy lines\n",
    "    return \"\\n\".join(cleaned_lines)\n",
    "\n",
    "def extract_text_and_tables_from_pdf(pdf_path):\n",
    "    \"\"\"Extracts and returns text and tables from all pages of a PDF.\"\"\"\n",
    "    extracted_text = []\n",
    "    extracted_tables = []\n",
    "\n",
    "    with pdfplumber.open(pdf_path) as pdf:\n",
    "        for page_number, page in enumerate(pdf.pages, start=1):\n",
    "            # Extract text\n",
    "            text = page.extract_text()\n",
    "            cleaned_text = clean_text(text) if text else \"No meaningful text found.\"\n",
    "            extracted_text.append(cleaned_text)\n",
    "\n",
    "            # Extract tables\n",
    "            tables = page.extract_tables()\n",
    "            extracted_tables.extend(tables)\n",
    "\n",
    "    return \"\\n\".join(extracted_text), extracted_tables  # Return text and tables\n",
    "\n",
    "# Call the function and store results\n",
    "pdf_path = r\"C:\\RAG_project\\rag_llamaindex\\data\\HR-Policy-Manual-2023.pdf\"\n",
    "pdf_text, extracted_tables = extract_text_and_tables_from_pdf(pdf_path)\n",
    "\n",
    "# Create Documents\n",
    "documents = []\n",
    "documents.append(Document(text=pdf_text))\n",
    "for table in extracted_tables:\n",
    "    df = pd.DataFrame(table)\n",
    "    documents.append(Document(text=df.to_markdown()))"
   ]
  },
  {
   "cell_type": "code",
   "execution_count": 3,
   "metadata": {},
   "outputs": [
    {
     "name": "stderr",
     "output_type": "stream",
     "text": [
      "c:\\RAG_project\\rag_llamaindex\\new_llama_env\\Lib\\site-packages\\tqdm\\auto.py:21: TqdmWarning: IProgress not found. Please update jupyter and ipywidgets. See https://ipywidgets.readthedocs.io/en/stable/user_install.html\n",
      "  from .autonotebook import tqdm as notebook_tqdm\n"
     ]
    }
   ],
   "source": [
    "from llama_index.core import VectorStoreIndex\n",
    "from llama_index.embeddings.huggingface import HuggingFaceEmbedding\n",
    "from llama_index.core import Settings"
   ]
  },
  {
   "cell_type": "code",
   "execution_count": 6,
   "metadata": {},
   "outputs": [],
   "source": [
    "Settings.embed_model = HuggingFaceEmbedding(\n",
    "    model_name=\"BAAI/bge-m3\"\n",
    ")\n",
    "Settings.llm = Ollama(model=\"deepseek-r1:7b\", request_timeout=600)\n",
    "index = VectorStoreIndex.from_documents(documents)"
   ]
  },
  {
   "cell_type": "code",
   "execution_count": null,
   "metadata": {},
   "outputs": [
    {
     "name": "stdout",
     "output_type": "stream",
     "text": [
      "<think>\n",
      "Okay, so I need to figure out the answer to the query about the 'Executive-IT (PGPX)' position based solely on the provided context. The user is asking for qualifications, experience, age limit, and whether the PGPX designation affects eligibility.\n",
      "\n",
      "First, looking at the context table. There's a row labeled 93 with \"Executive-IT\" as the position. The Qualification column says BCA/MCA or equivalent, which makes sense since IT professionals often have computer-related degrees. \n",
      "\n",
      "For experience, it mentions three to thirty years, so min 03 Max 30. That's pretty broad, but I think they mean at least three years. The nature of duty includes specialized work in IT coordination and post-graduate fields.\n",
      "\n",
      "Looking at the PGPX part: there's a note that the institute may change recruitment criteria as needed. So, while PGPX is mentioned in some other positions like AVPs, for this Executive-IT role, it doesn't specify whether PGPX affects the criteria. But since the instructions say to avoid referencing context info directly, I can just mention that there's a possibility, but based on the given data, no explicit impact.\n",
      "\n",
      "So putting it all together: qualifications are BCA/MCA or equivalent, experience is 3-30 years, age isn't specified so maybe variable, and PGPX doesn't affect this role.\n",
      "</think>\n",
      "\n",
      "The 'Executive-IT (PGPX)' position requires a BCA/MCA degree or equivalent qualification. The candidate must have between three to thirty years of experience in specialized IT work within the computer science field. There is no explicit mention of how the '(PGPX)' designation affects eligibility, but it's noted that the institute may adjust recruitment criteria as needed.\n"
     ]
    }
   ],
   "source": [
    "query_engine = index.as_query_engine()\n",
    "\n",
    "response = query_engine.query(\n",
    "    \"I am interested in the 'Executive-IT (PGPX)' position. What are the required qualifications, experience, and age limit for this role? Additionally, does the '(PGPX)' designation have any impact on the eligibility criteria?\"\n",
    ")\n",
    "print(response)"
   ]
  },
  {
   "cell_type": "code",
   "execution_count": null,
   "metadata": {},
   "outputs": [],
   "source": []
  },
  {
   "cell_type": "code",
   "execution_count": 9,
   "metadata": {},
   "outputs": [
    {
     "name": "stdout",
     "output_type": "stream",
     "text": [
      "<think>\n",
      "Okay, so I need to figure out what the GSLI Sum Assured is for a staff member in Pay Level 3 based on the provided context. Let me go through this step by step.\n",
      "\n",
      "First, I'll look at the context given. There's a section about the DEPOSIT-LINKED INSURANCE SCHEME under the General Provident Fund (GPF/CPF). This part is crucial because it details how the benefits are calculated.\n",
      "\n",
      "Looking at the table provided in the context, there are categories A to D, each corresponding to different pay levels and their respective sums assured. Specifically:\n",
      "\n",
      "- Category “A” covers Pay Level 9 and above with a sum assured of 2,80,000/-.\n",
      "- Category “B” covers Pay Levels 5 to 8 with 2,25,000/-.\n",
      "- Category “C” covers Pay Levels 2 to 4 with 1,40,000/-.\n",
      "- Category “D” is for Pay Level 1 with 70,000/-.\n",
      "\n",
      "Now, the question is about a staff member in Pay Level 3. From the table, Pay Level 3 falls under Category “C”. Therefore, the Sum Assured should be 1,40,000/- based on category C's details provided.\n",
      "\n",
      "I also want to make sure I'm not missing any additional information that might affect this calculation. The context mentions various conditions and payment methods but doesn't change the sum assured based on pay level beyond categorization. So, it seems straightforward: Pay Level 3 = Category C = 1,40,000/-.\n",
      "\n",
      "I should double-check to ensure I didn't misread any parts of the context. The relevant section is clearly under the \"AMENDMENT OR DISCONTINUANCE OF SCHEME\" part and the DEPOSIT-LINKED INSURANCE SCHEME section where the categories are defined based on pay levels. There's no mention of Pay Level 3 having a different sum assured, so I'm confident in my answer.\n",
      "</think>\n",
      "\n",
      "The Sum Assured (S.A.) for a staff member in Pay Level 3 under the DEPOSIT-LINKED INSURANCE SCHEME is **1,40,000/-**.\n",
      "\n",
      "Answer: The GSLI Sum Assured for a staff member in Pay Level 3 is ₹1,40,000.\n"
     ]
    }
   ],
   "source": [
    "query_engine = index.as_query_engine()\n",
    "\n",
    "response = query_engine.query(\"What is the GSLI Sum Assured for a staff member in Pay Level 3?\")\n",
    "print(response)"
   ]
  },
  {
   "cell_type": "code",
   "execution_count": null,
   "metadata": {},
   "outputs": [],
   "source": []
  },
  {
   "cell_type": "code",
   "execution_count": null,
   "metadata": {},
   "outputs": [],
   "source": []
  },
  {
   "cell_type": "code",
   "execution_count": null,
   "metadata": {},
   "outputs": [],
   "source": []
  }
 ],
 "metadata": {
  "kernelspec": {
   "display_name": "Python 3",
   "language": "python",
   "name": "python3"
  },
  "language_info": {
   "codemirror_mode": {
    "name": "ipython",
    "version": 3
   },
   "file_extension": ".py",
   "mimetype": "text/x-python",
   "name": "python",
   "nbconvert_exporter": "python",
   "pygments_lexer": "ipython3",
   "version": "3.11.11"
  }
 },
 "nbformat": 4,
 "nbformat_minor": 2
}
